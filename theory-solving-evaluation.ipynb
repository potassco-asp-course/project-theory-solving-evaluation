{
 "cells": [
  {
   "cell_type": "markdown",
   "metadata": {},
   "source": [
    "# Problem Description.\n",
    "\n",
    "\n",
    "The task of this project is to solve the Job Shop problem using different ASP systems, and \n",
    "to evaluate the performance of the different solutions.\n",
    "The ASP systems are `clingo`, `clingo-dl` and `clingcon`,\n",
    "you have to write one encoding for each of them. \n",
    "\n",
    "If you have done the [scheduling](../scheduling/scheduling.ipynb) project, then \n",
    "you can use the `clingo` encoding for the Job Shop problem that you developed in that project. \n",
    "\n",
    "If you have done the [theory-solving](../theory-solving/theory-solving.ipynb) project, then you should also evaluate the `clingo-dl` version that you implementented in that project."
   ]
  },
  {
   "cell_type": "markdown",
   "metadata": {},
   "source": [
    "## Systems\n",
    "\n",
    "For `clingo-dl`, you can read the paper [1], the section on \"ASP and Difference Constraints\" of the [Potassco User Guide](https://github.com/potassco/guide/releases), and have a look at the examples at https://github.com/potassco/clingo-dl/tree/master/examples. \n",
    "\n",
    "For `clingcon`, please have a look at the examples at https://github.com/potassco/clingcon/tree/master/examples.\n",
    "\n",
    "\n",
    "You can install `clingo-dl` and `clingcon` using conda as follows:\n",
    "```\n",
    "conda install -c potassco/label/dev clingo-dl \n",
    "conda install -c potassco/label/dev clingcon \n",
    "```\n",
    "\n",
    "References:\n",
    "1. Kaminski, R., Romero, J., Schaub, T., & Wanko, P. (2020). How to build your own ASP-based system?! CoRR, abs/2008.06692."
   ]
  },
  {
   "cell_type": "markdown",
   "metadata": {},
   "source": [
    "## The Job Shop problem.\n",
    "\n",
    "Please read the description of the problem at the [scheduling](../scheduling/scheduling.ipynb) project.\n",
    "\n",
    "<!--\n",
    "This problem is a variation of the Job Shop problem that we have \n",
    "seen in other projects (f.e., in [scheduling](../scheduling/scheduling.ipynb)), \n",
    "where the order of the operations of every job is totally free.\n",
    "\n",
    "Next we describe the problem more in detail.\n",
    "There are ``j`` jobs and ``m`` machines.\n",
    "We refer to the machines with numbers from ``1`` to ``m``.\n",
    "Every job consists of ``m`` operations.\n",
    "Each operation uses one machine during a given time, and\n",
    "we refer to each operation of a job with the number of the machine that it uses.\n",
    "A machine can only process one operation at a time, and\n",
    "some operations may have to wait until their corresponding machine is free.\n",
    "Different operations of the same job use different machines, and\n",
    "the operations of each single job use all machines.\n",
    "\n",
    "In the Open Shop problem:\n",
    "* the order of the operations of every job is totally free,\n",
    "* any processing order of the jobs on the machines is allowed.\n",
    "\n",
    "This means that different jobs may perform the operations in different orders, and \n",
    "that different machines may process the operations in a different order.\n",
    "\n",
    "The problem consists in finding for every machine a permutation of the jobs that\n",
    "minimizes the time needed for processing all jobs.\n",
    "-->"
   ]
  },
  {
   "cell_type": "markdown",
   "metadata": {},
   "source": [
    "# Representation in ASP.\n",
    "\n",
    "Please read the description of the representation in ASP at the [scheduling](../scheduling/scheduling.ipynb) project."
   ]
  },
  {
   "cell_type": "markdown",
   "metadata": {},
   "source": [
    "# Task.\n",
    "\n",
    "The first part of the task is to write three ASP encodings for the Job Shop problem, one for each system: `clingo`, `clingo-dl`, and `clingcon`.\n",
    "For each of them, given an instance, \n",
    "the optimal stable models of the encoding and the instance\n",
    "must correspond to the solutions of the problem represented by the instance.\n",
    "If you have done the [scheduling](../scheduling/scheduling.ipynb) project, then \n",
    "you can use the `clingo` encoding for the Job Shop problem that you developed in that project. \n",
    "\n",
    "The second part of the task is to evaluate the performance of the different encodings and systems. \n",
    "In the evaluation you have to run the different encodings (with the corresponding systems) and the provided instances (see below), and analyze the results. \n",
    "You have to evaluate the results both when the systems compute one optimal answer set, and\n",
    "when they compute one normal (possibly non optimal) answer set.\n",
    "The analysis should try to answer the following questions for both cases, with and without optimization: \n",
    "* For each encoding (together with a system), what is the relation between its solving time and the instance size?\n",
    "* Is there an encoding (together with a system) that is always faster than the others, or this depends on the instances?\n",
    "\n",
    "Think about an explanation for the results that you obtain, and feel free to extend the analysis.\n",
    "In the experiments you can use a timeout of 10 minutes, \n",
    "or in other words, you can terminate one run if it takes more than 10 minutes.\n",
    "If you have done the project on `theory-solving`, you should also evaluate the implementation of `clingo-dl` that is part of that project.\n",
    "\n",
    "Additionally, you have to write a report about your work and do a presentation of it.\n",
    "The report should be in PDF, 5-10 pages long, and it should be written using LaTeX and the llncs style.\n",
    "The presentation should take around 15 minutes.\n"
   ]
  },
  {
   "cell_type": "markdown",
   "metadata": {},
   "source": [
    "# Framework.\n",
    "\n",
    "In the directory ``easy-instances`` you can find 16 instances for the problem. \n",
    "They are the same as those of the [scheduling](../scheduling/scheduling.ipynb) project.\n",
    "These instances will be used to test if your encodings are correct.\n",
    "\n",
    "In the directory ``difficult-instances`` you can find 24 instances for the problem, \n",
    "that are more difficult than the others.\n",
    "These instances will not be used to test if your encodings are correct.\n",
    "\n",
    "For the evaluation you have to try both sets of instances.\n",
    "Given that both sets are very different, you should analyse them separately, \n",
    "and the results for the different instance sets should appear in different tables or graphs.\n",
    "\n",
    "You have to submit three files named ``jobshop.lp`` (for `clingo`), \n",
    "``jobshop-dl.lp`` (for `clingo-dl`) and ``jobshop-con.lp`` (for `clingocon`),\n",
    "included as templates in this directory. "
   ]
  },
  {
   "cell_type": "markdown",
   "metadata": {},
   "source": [
    "## Encoding for `clingo`\n",
    "\n",
    "The file `jobshop.lp` should contain the line\n",
    "```\n",
    "#show perm/3.\n",
    "```\n",
    "and no more ``#show`` statements, so that in the output only the corresponding atoms appear.\n",
    "\n",
    "You can try your encoding in the next cell. \n",
    "If you work in this notebook, remember to download the files that you modify to your computer, otherwise you will lose your changes."
   ]
  },
  {
   "cell_type": "code",
   "execution_count": null,
   "metadata": {},
   "outputs": [],
   "source": [
    "%%clingo - easy-instances/ins-01-3-2.lp\n",
    "\n",
    "% Your encoding for clingo please...\n",
    "\n",
    "% Minimize the whole processing time\n",
    "% #minimize { ... }.\n",
    "\n",
    "#show perm/3."
   ]
  },
  {
   "cell_type": "markdown",
   "metadata": {},
   "source": [
    "The output for `ins-01-3-2.lp` should look similar to this:"
   ]
  },
  {
   "cell_type": "markdown",
   "metadata": {},
   "source": [
    "```\n",
    "clingo version 5.5.0\n",
    "Reading from - ...\n",
    "Solving...\n",
    "Answer: 1\n",
    "perm(3,1,1) perm(1,1,3) perm(2,1,2) perm(3,2,1) perm(2,2,2) perm(1,2,3)\n",
    "Optimization: 20\n",
    "Answer: 2\n",
    "perm(1,1,1) perm(2,1,3) perm(3,1,2) perm(3,2,2) perm(1,2,1) perm(2,2,3)\n",
    "Optimization: 19\n",
    "Answer: 3\n",
    "perm(2,1,1) perm(1,1,3) perm(3,1,2) perm(3,2,2) perm(2,2,1) perm(1,2,3)\n",
    "Optimization: 16\n",
    "OPTIMUM FOUND\n",
    "\n",
    "Models       : 3\n",
    "  Optimum    : yes\n",
    "Optimization : 16\n",
    "Calls        : 1\n",
    "Time         : 0.007s (Solving: 0.00s 1st Model: 0.00s Unsat: 0.00s)\n",
    "CPU Time     : 0.007s\n",
    "```"
   ]
  },
  {
   "cell_type": "markdown",
   "metadata": {},
   "source": [
    "To compute non optimal answer sets, simply add the option `--opt-mode=ignore` to ignore the optimization statements."
   ]
  },
  {
   "cell_type": "markdown",
   "metadata": {},
   "source": [
    "## Encoding for `clingo-dl`\n",
    "\n",
    "The file `jobshop-dl.lp` should contain the line\n",
    "```\n",
    "#show.\n",
    "```\n",
    "and no more ``#show`` statements, \n",
    "so that in the output only the assignments to the integer variables appear.\n",
    "\n",
    "The encoding should result in one integer variable `(J,M)` for every job `J` and every machine `M`.\n",
    "To compute optimal stable models, \n",
    "use a variable named `bound` and call `clingo-dl` with the option `--minimize-variable=bound`."
   ]
  },
  {
   "cell_type": "code",
   "execution_count": null,
   "metadata": {},
   "outputs": [],
   "source": [
    "%%script clingo-dl - easy-instances/ins-01-3-2.lp --minimize-variable=bound --no-raise-error\n",
    "\n",
    "% Your encoding for clingo-dl please...\n",
    "\n",
    "% Use the variable bound to minimize the whole processing time\n",
    "% &diff { ... - bound } <= ... :- ... .\n",
    "\n",
    "#show."
   ]
  },
  {
   "cell_type": "markdown",
   "metadata": {},
   "source": [
    "The option `--no-raise-error` is just needed if you work on the notebook, otherwise you can skip it.\n",
    "\n",
    "The output for `ins-01-3-2.lp` should look similar to this:"
   ]
  },
  {
   "cell_type": "markdown",
   "metadata": {},
   "source": [
    "```\n",
    "clingo-dl version 1.2.0\n",
    "Reading from jobshop-dl.lp ...\n",
    "Solving...\n",
    "Answer: 1\n",
    "dl((1,1),6) dl(bound,20) dl((1,2),16) dl((2,1),5) dl((2,2),10) dl((3,1),0) dl((3,2),5)\n",
    "Solving...\n",
    "Answer: 1\n",
    "dl((1,1),6) dl(bound,16) dl((1,2),12) dl((2,1),0) dl((2,2),1) dl((3,1),1) dl((3,2),7)\n",
    "Solving...\n",
    "UNSATISFIABLE\n",
    "\n",
    "Models       : 2\n",
    "Calls        : 3\n",
    "Time         : 0.003s (Solving: 0.00s 1st Model: 0.00s Unsat: 0.00s)\n",
    "CPU Time     : 0.002s\n",
    "```"
   ]
  },
  {
   "cell_type": "markdown",
   "metadata": {},
   "source": [
    "To compute non optimal answer sets, simply do not use the option `--minimize-variable=bound`."
   ]
  },
  {
   "cell_type": "markdown",
   "metadata": {},
   "source": [
    "## Encoding for `clingocon`\n",
    "\n",
    "The file `jobshop-con.lp` should contain the line\n",
    "```\n",
    "#show.\n",
    "```\n",
    "and no more ``#show`` statements, \n",
    "so that in the output only the assignments to the integer variables appear.\n",
    "\n",
    "The encoding should result in one integer variable `(J,M)` for every job `J` and every machine `M`.\n",
    "To compute optimal stable models, use a variable named `bound`, \n",
    "minimize it using a `clingcon` minimize statement (see below), and \n",
    "call `clingcon` with option `0`."
   ]
  },
  {
   "cell_type": "code",
   "execution_count": null,
   "metadata": {},
   "outputs": [],
   "source": [
    "%%script clingcon - easy-instances/ins-01-3-2.lp 0 --no-raise-error\n",
    "\n",
    "% Your encoding for clingcon please...\n",
    "\n",
    "% Use the variable bound to minimize the whole processing time\n",
    "% &sum {  ... + ...*bound } <= .. :- ... . \n",
    "&minimize { bound }.\n",
    "\n",
    "#show."
   ]
  },
  {
   "cell_type": "markdown",
   "metadata": {},
   "source": [
    "The option `--no-raise-error` is just needed if you work on a notebook, otherwise you can skip it.\n",
    "\n",
    "The output for `ins-01-3-2.lp` should look similar to this:"
   ]
  },
  {
   "cell_type": "markdown",
   "metadata": {},
   "source": [
    "```\n",
    "clingcon version 5.0.0\n",
    "Reading from jobshop-con.lp ...\n",
    "Solving...\n",
    "Answer: 1\n",
    "\n",
    "Assignment:\n",
    "bound=20 (1,1)=6 (1,2)=16 (2,1)=5 (2,2)=10 (3,1)=0 (3,2)=5\n",
    "Cost: 20\n",
    "Answer: 2\n",
    "\n",
    "Assignment:\n",
    "bound=19 (1,1)=7 (1,2)=10 (2,1)=0 (2,2)=1 (3,1)=1 (3,2)=14\n",
    "Cost: 19\n",
    "Answer: 3\n",
    "\n",
    "Assignment:\n",
    "bound=18 (1,1)=6 (1,2)=9 (2,1)=0 (2,2)=2 (3,1)=1 (3,2)=13\n",
    "Cost: 18\n",
    "Answer: 4\n",
    "\n",
    "Assignment:\n",
    "bound=17 (1,1)=7 (1,2)=13 (2,1)=0 (2,2)=2 (3,1)=1 (3,2)=8\n",
    "Cost: 17\n",
    "Answer: 5\n",
    "\n",
    "Assignment:\n",
    "bound=16 (1,1)=7 (1,2)=12 (2,1)=0 (2,2)=1 (3,1)=1 (3,2)=7\n",
    "Cost: 16\n",
    "SATISFIABLE\n",
    "\n",
    "Models       : 5\n",
    "Calls        : 1\n",
    "Time         : 0.003s (Solving: 0.00s 1st Model: 0.00s Unsat: 0.00s)\n",
    "CPU Time     : 0.002s\n",
    "```"
   ]
  },
  {
   "cell_type": "markdown",
   "metadata": {},
   "source": [
    "To compute non optimal answer sets, simply do not use option `0`."
   ]
  },
  {
   "cell_type": "markdown",
   "metadata": {},
   "source": [
    "## Download\n",
    "Click the link at the following cell to download a zip file with the instances and the templates.\n",
    "We recommend you to work with them in your own computer, using your own installation of the systems."
   ]
  },
  {
   "cell_type": "code",
   "execution_count": 1,
   "metadata": {},
   "outputs": [
    {
     "data": {
      "text/html": [
       "<a href='theory-solving-evaluation.zip' target='_blank'>theory-solving-evaluation.zip</a><br>"
      ],
      "text/plain": [
       "/home/jovyan/advanced/theory-solving-evaluation/theory-solving-evaluation.zip"
      ]
     },
     "execution_count": 1,
     "metadata": {},
     "output_type": "execute_result"
    }
   ],
   "source": [
    "from IPython.display import FileLink\n",
    "FileLink(\"theory-solving-evaluation.zip\")"
   ]
  },
  {
   "cell_type": "markdown",
   "metadata": {},
   "source": [
    "# Formalities.\n",
    "You can work on the solution alone or in groups of two people.\n",
    "Different groups have to submit different solutions, in case\n",
    "of plagiarism all groups involved will fail the project.\n",
    "\n",
    "We will test your encoding with the provided instances.\n",
    "Your solution has to correctly encode all optimal solutions for every instance.\n",
    "This will be tested automatically.\n",
    "Please contact us if you get stuck."
   ]
  },
  {
   "cell_type": "markdown",
   "metadata": {},
   "source": [
    "# Tips:\n",
    "\n",
    "* In the examples of `clingo-dl` and `clingcon` you can find encodings for these systems of the Open Shop and Permutation Flow Shop problems, respectively. You can adapt those to the Job Shop problem.\n",
    "\n",
    "* If you are stuck you can contact us. We will do out best to answer all your questions. You can send us questions and remarks either via Moodle or by email.\n",
    "\n",
    "* Start as soon as possible to avoid running out of time. However, if you still realize that you have problems making it before the deadline, please contact us instead of copying another solution."
   ]
  }
 ],
 "metadata": {
  "kernelspec": {
   "display_name": "Python 3",
   "language": "python",
   "name": "python3"
  },
  "language_info": {
   "codemirror_mode": {
    "name": "ipython",
    "version": 3
   },
   "file_extension": ".py",
   "mimetype": "text/x-python",
   "name": "python",
   "nbconvert_exporter": "python",
   "pygments_lexer": "ipython3",
   "version": "3.9.2"
  }
 },
 "nbformat": 4,
 "nbformat_minor": 4
}
